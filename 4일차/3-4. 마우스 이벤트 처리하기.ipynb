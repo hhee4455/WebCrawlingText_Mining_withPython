{
 "cells": [
  {
   "cell_type": "markdown",
   "id": "192778f5-b6a0-458f-9d28-2ecd531975a1",
   "metadata": {},
   "source": [
    "## 3-4. 마우스 이벤트 처리하기\n",
    "\n",
    "- Selenium을 이용해서 마우스 Event를 동작해봅시다."
   ]
  },
  {
   "cell_type": "markdown",
   "id": "21cda704-06c6-4de4-83a7-f77fbeec5728",
   "metadata": {},
   "source": [
    "### Target: 해시코드 \"로그인\" 창 접속하기\n",
    "\n",
    "*이번 실습과 다음 실습에 걸쳐 로그인 과정을 자동화하는 것을 목표로 합니다.*\n",
    "\n",
    "다음 사이트에 로그인하기 위해 \"로그인\" 버튼을 눌러봅시다 : https://hashcode.co.kr/"
   ]
  },
  {
   "cell_type": "markdown",
   "id": "f610a6e2-c4e6-4ada-a5ae-eb1a99b0f0b3",
   "metadata": {},
   "source": [
    "### Mouse Event\n",
    "\n",
    "웹 페이지에서 일어나는 일들을 Event라고 합니다.\n",
    "\n",
    "마우스로 일어날 수 있는 대표적인 이벤트는 다음과 같습니다.\n",
    "\n",
    "- 마우스 움직이기(move)\n",
    "- 마우스 누르기(press down)\n",
    "- 마우스 떼기(press up)\n",
    "- ..."
   ]
  },
  {
   "cell_type": "markdown",
   "id": "72fb9572-41bf-45ea-a1da-510739d0c517",
   "metadata": {},
   "source": [
    "\n",
    "저희는 버튼을 찾은 후 이를 클릭하는 것을 목표로 합니다.  \n",
    "마우스 입력은 크게 다음과 같은 과정을 거칩니다.\n",
    "\n",
    "1. 입력하고자 하는 대상 요소를 찾습니다. (`find_element()` 이용)\n",
    "2. 입력하고자 하는 내용을 `click`을 통해 전달합니다.\n",
    "3. `.perform()`을 통해 동작합니다.\n",
    "\n",
    "아래 예시는 `id`가 textInput인 요소에 \"abc\"를 입력하는 예제입니다.\n",
    "```python\n",
    "button = driver.find_element(By.ID, \"button\")\n",
    "ActionChains(driver).click(button).perform()\n",
    "```"
   ]
  },
  {
   "cell_type": "code",
   "execution_count": 1,
   "id": "e1e6514c",
   "metadata": {},
   "outputs": [],
   "source": [
    "# 스크래핑에 필요한 라이브러리를 불러와봅시다.\n",
    "\n",
    "from selenium import webdriver\n",
    "from selenium.webdriver import ActionChains\n",
    "from selenium.webdriver.chrome.service import Service\n",
    "from selenium.webdriver.common.by import By\n",
    "from webdriver_manager.chrome import ChromeDriverManager"
   ]
  },
  {
   "cell_type": "code",
   "execution_count": 5,
   "id": "8bdbf061-8236-4008-b75c-449458718736",
   "metadata": {},
   "outputs": [
    {
     "ename": "NoSuchElementException",
     "evalue": "Message: no such element: Unable to locate element: {\"method\":\"css selector\",\"selector\":\".nav-link.nav-sign-in\"}\n  (Session info: chrome=123.0.6312.106); For documentation on this error, please visit: https://www.selenium.dev/documentation/webdriver/troubleshooting/errors#no-such-element-exception\nStacktrace:\n0   chromedriver                        0x0000000100b18474 chromedriver + 4326516\n1   chromedriver                        0x0000000100b1093c chromedriver + 4294972\n2   chromedriver                        0x000000010073c088 chromedriver + 278664\n3   chromedriver                        0x000000010077ea80 chromedriver + 551552\n4   chromedriver                        0x00000001007b74f8 chromedriver + 783608\n5   chromedriver                        0x00000001007734e4 chromedriver + 505060\n6   chromedriver                        0x0000000100773f5c chromedriver + 507740\n7   chromedriver                        0x0000000100adba10 chromedriver + 4078096\n8   chromedriver                        0x0000000100ae07c8 chromedriver + 4097992\n9   chromedriver                        0x0000000100ac25b4 chromedriver + 3974580\n10  chromedriver                        0x0000000100ae10e0 chromedriver + 4100320\n11  chromedriver                        0x0000000100ab3ba4 chromedriver + 3914660\n12  chromedriver                        0x0000000100b016e8 chromedriver + 4232936\n13  chromedriver                        0x0000000100b01864 chromedriver + 4233316\n14  chromedriver                        0x0000000100b105b0 chromedriver + 4294064\n15  libsystem_pthread.dylib             0x0000000195e66f94 _pthread_start + 136\n16  libsystem_pthread.dylib             0x0000000195e61d34 thread_start + 8\n",
     "output_type": "error",
     "traceback": [
      "\u001b[0;31m---------------------------------------------------------------------------\u001b[0m",
      "\u001b[0;31mNoSuchElementException\u001b[0m                    Traceback (most recent call last)",
      "Cell \u001b[0;32mIn[5], line 11\u001b[0m\n\u001b[1;32m      8\u001b[0m \u001b[38;5;66;03m# 요소 로딩을 위해 대기\u001b[39;00m\n\u001b[1;32m      9\u001b[0m driver\u001b[38;5;241m.\u001b[39mimplicitly_wait(\u001b[38;5;241m5\u001b[39m)\n\u001b[0;32m---> 11\u001b[0m button \u001b[38;5;241m=\u001b[39m \u001b[43mdriver\u001b[49m\u001b[38;5;241;43m.\u001b[39;49m\u001b[43mfind_element\u001b[49m\u001b[43m(\u001b[49m\u001b[43mBy\u001b[49m\u001b[38;5;241;43m.\u001b[39;49m\u001b[43mCSS_SELECTOR\u001b[49m\u001b[43m,\u001b[49m\u001b[43m \u001b[49m\u001b[38;5;124;43m'\u001b[39;49m\u001b[38;5;124;43m.nav-link.nav-sign-in\u001b[39;49m\u001b[38;5;124;43m'\u001b[39;49m\u001b[43m)\u001b[49m\n\u001b[1;32m     12\u001b[0m ActionChains(driver)\u001b[38;5;241m.\u001b[39mclick(button)\u001b[38;5;241m.\u001b[39mperform()\n",
      "File \u001b[0;32m/Library/Frameworks/Python.framework/Versions/3.12/lib/python3.12/site-packages/selenium/webdriver/remote/webdriver.py:741\u001b[0m, in \u001b[0;36mWebDriver.find_element\u001b[0;34m(self, by, value)\u001b[0m\n\u001b[1;32m    738\u001b[0m     by \u001b[38;5;241m=\u001b[39m By\u001b[38;5;241m.\u001b[39mCSS_SELECTOR\n\u001b[1;32m    739\u001b[0m     value \u001b[38;5;241m=\u001b[39m \u001b[38;5;124mf\u001b[39m\u001b[38;5;124m'\u001b[39m\u001b[38;5;124m[name=\u001b[39m\u001b[38;5;124m\"\u001b[39m\u001b[38;5;132;01m{\u001b[39;00mvalue\u001b[38;5;132;01m}\u001b[39;00m\u001b[38;5;124m\"\u001b[39m\u001b[38;5;124m]\u001b[39m\u001b[38;5;124m'\u001b[39m\n\u001b[0;32m--> 741\u001b[0m \u001b[38;5;28;01mreturn\u001b[39;00m \u001b[38;5;28;43mself\u001b[39;49m\u001b[38;5;241;43m.\u001b[39;49m\u001b[43mexecute\u001b[49m\u001b[43m(\u001b[49m\u001b[43mCommand\u001b[49m\u001b[38;5;241;43m.\u001b[39;49m\u001b[43mFIND_ELEMENT\u001b[49m\u001b[43m,\u001b[49m\u001b[43m \u001b[49m\u001b[43m{\u001b[49m\u001b[38;5;124;43m\"\u001b[39;49m\u001b[38;5;124;43musing\u001b[39;49m\u001b[38;5;124;43m\"\u001b[39;49m\u001b[43m:\u001b[49m\u001b[43m \u001b[49m\u001b[43mby\u001b[49m\u001b[43m,\u001b[49m\u001b[43m \u001b[49m\u001b[38;5;124;43m\"\u001b[39;49m\u001b[38;5;124;43mvalue\u001b[39;49m\u001b[38;5;124;43m\"\u001b[39;49m\u001b[43m:\u001b[49m\u001b[43m \u001b[49m\u001b[43mvalue\u001b[49m\u001b[43m}\u001b[49m\u001b[43m)\u001b[49m[\u001b[38;5;124m\"\u001b[39m\u001b[38;5;124mvalue\u001b[39m\u001b[38;5;124m\"\u001b[39m]\n",
      "File \u001b[0;32m/Library/Frameworks/Python.framework/Versions/3.12/lib/python3.12/site-packages/selenium/webdriver/remote/webdriver.py:347\u001b[0m, in \u001b[0;36mWebDriver.execute\u001b[0;34m(self, driver_command, params)\u001b[0m\n\u001b[1;32m    345\u001b[0m response \u001b[38;5;241m=\u001b[39m \u001b[38;5;28mself\u001b[39m\u001b[38;5;241m.\u001b[39mcommand_executor\u001b[38;5;241m.\u001b[39mexecute(driver_command, params)\n\u001b[1;32m    346\u001b[0m \u001b[38;5;28;01mif\u001b[39;00m response:\n\u001b[0;32m--> 347\u001b[0m     \u001b[38;5;28;43mself\u001b[39;49m\u001b[38;5;241;43m.\u001b[39;49m\u001b[43merror_handler\u001b[49m\u001b[38;5;241;43m.\u001b[39;49m\u001b[43mcheck_response\u001b[49m\u001b[43m(\u001b[49m\u001b[43mresponse\u001b[49m\u001b[43m)\u001b[49m\n\u001b[1;32m    348\u001b[0m     response[\u001b[38;5;124m\"\u001b[39m\u001b[38;5;124mvalue\u001b[39m\u001b[38;5;124m\"\u001b[39m] \u001b[38;5;241m=\u001b[39m \u001b[38;5;28mself\u001b[39m\u001b[38;5;241m.\u001b[39m_unwrap_value(response\u001b[38;5;241m.\u001b[39mget(\u001b[38;5;124m\"\u001b[39m\u001b[38;5;124mvalue\u001b[39m\u001b[38;5;124m\"\u001b[39m, \u001b[38;5;28;01mNone\u001b[39;00m))\n\u001b[1;32m    349\u001b[0m     \u001b[38;5;28;01mreturn\u001b[39;00m response\n",
      "File \u001b[0;32m/Library/Frameworks/Python.framework/Versions/3.12/lib/python3.12/site-packages/selenium/webdriver/remote/errorhandler.py:229\u001b[0m, in \u001b[0;36mErrorHandler.check_response\u001b[0;34m(self, response)\u001b[0m\n\u001b[1;32m    227\u001b[0m         alert_text \u001b[38;5;241m=\u001b[39m value[\u001b[38;5;124m\"\u001b[39m\u001b[38;5;124malert\u001b[39m\u001b[38;5;124m\"\u001b[39m]\u001b[38;5;241m.\u001b[39mget(\u001b[38;5;124m\"\u001b[39m\u001b[38;5;124mtext\u001b[39m\u001b[38;5;124m\"\u001b[39m)\n\u001b[1;32m    228\u001b[0m     \u001b[38;5;28;01mraise\u001b[39;00m exception_class(message, screen, stacktrace, alert_text)  \u001b[38;5;66;03m# type: ignore[call-arg]  # mypy is not smart enough here\u001b[39;00m\n\u001b[0;32m--> 229\u001b[0m \u001b[38;5;28;01mraise\u001b[39;00m exception_class(message, screen, stacktrace)\n",
      "\u001b[0;31mNoSuchElementException\u001b[0m: Message: no such element: Unable to locate element: {\"method\":\"css selector\",\"selector\":\".nav-link.nav-sign-in\"}\n  (Session info: chrome=123.0.6312.106); For documentation on this error, please visit: https://www.selenium.dev/documentation/webdriver/troubleshooting/errors#no-such-element-exception\nStacktrace:\n0   chromedriver                        0x0000000100b18474 chromedriver + 4326516\n1   chromedriver                        0x0000000100b1093c chromedriver + 4294972\n2   chromedriver                        0x000000010073c088 chromedriver + 278664\n3   chromedriver                        0x000000010077ea80 chromedriver + 551552\n4   chromedriver                        0x00000001007b74f8 chromedriver + 783608\n5   chromedriver                        0x00000001007734e4 chromedriver + 505060\n6   chromedriver                        0x0000000100773f5c chromedriver + 507740\n7   chromedriver                        0x0000000100adba10 chromedriver + 4078096\n8   chromedriver                        0x0000000100ae07c8 chromedriver + 4097992\n9   chromedriver                        0x0000000100ac25b4 chromedriver + 3974580\n10  chromedriver                        0x0000000100ae10e0 chromedriver + 4100320\n11  chromedriver                        0x0000000100ab3ba4 chromedriver + 3914660\n12  chromedriver                        0x0000000100b016e8 chromedriver + 4232936\n13  chromedriver                        0x0000000100b01864 chromedriver + 4233316\n14  chromedriver                        0x0000000100b105b0 chromedriver + 4294064\n15  libsystem_pthread.dylib             0x0000000195e66f94 _pthread_start + 136\n16  libsystem_pthread.dylib             0x0000000195e61d34 thread_start + 8\n"
     ]
    }
   ],
   "source": [
    "# 주어진 웹사이트를 누른 후, 우리가 원하는 버튼 요소를 찾은 후 마우스 이벤트를 실행시켜봅시다.\n",
    "\n",
    "driver = webdriver.Chrome()\n",
    "driver.get(\"https://qna.programmers.co.kr/\")\n",
    "driver.implicitly_wait(0.5)\n",
    "\n",
    "button = driver.find_element(By.CLASS_NAME, \"nav-link.nav-sign-in\")\n",
    "ActionChains(driver).click(button).perform()"
   ]
  },
  {
   "cell_type": "markdown",
   "id": "380684c7-4e86-45df-82d7-35d372ed35b6",
   "metadata": {},
   "source": [
    "성공적으로 로그인 창에 진입했나요?  \n",
    "이제 다음 실습에서 키보드 입력을 진행하는 방법에 대해서 학습해봅시다.\n",
    "\n",
    "Tip: 이 외에도 사용할 수 있는 마우스 이벤트들이 많습니다. 다음 [링크](https://www.selenium.dev/documentation/webdriver/actions_api/mouse/)를 통해 확인하실 수 있어요!"
   ]
  }
 ],
 "metadata": {
  "kernelspec": {
   "display_name": "Python 3 (ipykernel)",
   "language": "python",
   "name": "python3"
  },
  "language_info": {
   "codemirror_mode": {
    "name": "ipython",
    "version": 3
   },
   "file_extension": ".py",
   "mimetype": "text/x-python",
   "name": "python",
   "nbconvert_exporter": "python",
   "pygments_lexer": "ipython3",
   "version": "3.12.2"
  }
 },
 "nbformat": 4,
 "nbformat_minor": 5
}
